{
 "cells": [
  {
   "cell_type": "markdown",
   "id": "71f4f786-d789-4b73-a0b2-ed3feca4ba11",
   "metadata": {},
   "source": [
    "# Daraz Data Scraper code"
   ]
  },
  {
   "cell_type": "code",
   "execution_count": 2,
   "id": "950181db-7bda-4518-b71e-714237b6c791",
   "metadata": {},
   "outputs": [
    {
     "ename": "WebDriverException",
     "evalue": "Message: unknown error: unexpected command response\n  (Session info: chrome=103.0.5060.66)\nStacktrace:\nBacktrace:\n\tOrdinal0 [0x00F6D953+2414931]\n\tOrdinal0 [0x00EFF5E1+1963489]\n\tOrdinal0 [0x00DEC6B8+837304]\n\tOrdinal0 [0x00DDEB34+781108]\n\tOrdinal0 [0x00DDE06A+778346]\n\tOrdinal0 [0x00DDD646+775750]\n\tOrdinal0 [0x00DDCEBC+773820]\n\tOrdinal0 [0x00DF2197+860567]\n\tOrdinal0 [0x00E44B55+1198933]\n\tOrdinal0 [0x00E342B6+1131190]\n\tOrdinal0 [0x00E0E860+976992]\n\tOrdinal0 [0x00E0F756+980822]\n\tGetHandleVerifier [0x011DCC62+2510274]\n\tGetHandleVerifier [0x011CF760+2455744]\n\tGetHandleVerifier [0x00FFEABA+551962]\n\tGetHandleVerifier [0x00FFD916+547446]\n\tOrdinal0 [0x00F05F3B+1990459]\n\tOrdinal0 [0x00F0A898+2009240]\n\tOrdinal0 [0x00F0A985+2009477]\n\tOrdinal0 [0x00F13AD1+2046673]\n\tBaseThreadInitThunk [0x76733744+36]\n\tRtlSetCurrentTransaction [0x77AE9E54+212]\n\tRtlSetCurrentTransaction [0x77AE9E1F+159]\n",
     "output_type": "error",
     "traceback": [
      "\u001b[1;31m---------------------------------------------------------------------------\u001b[0m",
      "\u001b[1;31mWebDriverException\u001b[0m                        Traceback (most recent call last)",
      "Input \u001b[1;32mIn [2]\u001b[0m, in \u001b[0;36m<cell line: 9>\u001b[1;34m()\u001b[0m\n\u001b[0;32m      8\u001b[0m url\u001b[38;5;241m=\u001b[39m[]\n\u001b[0;32m      9\u001b[0m \u001b[38;5;28;01mfor\u001b[39;00m no \u001b[38;5;129;01min\u001b[39;00m \u001b[38;5;28mrange\u001b[39m(\u001b[38;5;241m1\u001b[39m,\u001b[38;5;241m5\u001b[39m):\n\u001b[1;32m---> 10\u001b[0m     \u001b[43mdriver\u001b[49m\u001b[38;5;241;43m.\u001b[39;49m\u001b[43mget\u001b[49m\u001b[43m(\u001b[49m\u001b[43mf\u001b[49m\u001b[38;5;124;43m\"\u001b[39;49m\u001b[38;5;124;43mhttps://www.daraz.pk/smartphones/samsung/?page=\u001b[39;49m\u001b[38;5;132;43;01m{no}\u001b[39;49;00m\u001b[38;5;124;43mspm=a2a0e.home.cate_7_1.11.35e34937QRI6mR\u001b[39;49m\u001b[38;5;124;43m\"\u001b[39;49m\u001b[43m)\u001b[49m\n\u001b[0;32m     12\u001b[0m     articles \u001b[38;5;241m=\u001b[39mdriver\u001b[38;5;241m.\u001b[39mfind_elements_by_class_name(\u001b[38;5;124m'\u001b[39m\u001b[38;5;124mmainPic--ehOdr\u001b[39m\u001b[38;5;124m'\u001b[39m)\n\u001b[0;32m     14\u001b[0m     \u001b[38;5;28;01mfor\u001b[39;00m article \u001b[38;5;129;01min\u001b[39;00m articles:\n",
      "File \u001b[1;32mc:\\users\\hp\\appdata\\local\\programs\\python\\python39\\lib\\site-packages\\selenium\\webdriver\\remote\\webdriver.py:437\u001b[0m, in \u001b[0;36mWebDriver.get\u001b[1;34m(self, url)\u001b[0m\n\u001b[0;32m    433\u001b[0m \u001b[38;5;28;01mdef\u001b[39;00m \u001b[38;5;21mget\u001b[39m(\u001b[38;5;28mself\u001b[39m, url: \u001b[38;5;28mstr\u001b[39m) \u001b[38;5;241m-\u001b[39m\u001b[38;5;241m>\u001b[39m \u001b[38;5;28;01mNone\u001b[39;00m:\n\u001b[0;32m    434\u001b[0m     \u001b[38;5;124m\"\"\"\u001b[39m\n\u001b[0;32m    435\u001b[0m \u001b[38;5;124m    Loads a web page in the current browser session.\u001b[39m\n\u001b[0;32m    436\u001b[0m \u001b[38;5;124m    \"\"\"\u001b[39m\n\u001b[1;32m--> 437\u001b[0m     \u001b[38;5;28;43mself\u001b[39;49m\u001b[38;5;241;43m.\u001b[39;49m\u001b[43mexecute\u001b[49m\u001b[43m(\u001b[49m\u001b[43mCommand\u001b[49m\u001b[38;5;241;43m.\u001b[39;49m\u001b[43mGET\u001b[49m\u001b[43m,\u001b[49m\u001b[43m \u001b[49m\u001b[43m{\u001b[49m\u001b[38;5;124;43m'\u001b[39;49m\u001b[38;5;124;43murl\u001b[39;49m\u001b[38;5;124;43m'\u001b[39;49m\u001b[43m:\u001b[49m\u001b[43m \u001b[49m\u001b[43murl\u001b[49m\u001b[43m}\u001b[49m\u001b[43m)\u001b[49m\n",
      "File \u001b[1;32mc:\\users\\hp\\appdata\\local\\programs\\python\\python39\\lib\\site-packages\\selenium\\webdriver\\remote\\webdriver.py:425\u001b[0m, in \u001b[0;36mWebDriver.execute\u001b[1;34m(self, driver_command, params)\u001b[0m\n\u001b[0;32m    423\u001b[0m response \u001b[38;5;241m=\u001b[39m \u001b[38;5;28mself\u001b[39m\u001b[38;5;241m.\u001b[39mcommand_executor\u001b[38;5;241m.\u001b[39mexecute(driver_command, params)\n\u001b[0;32m    424\u001b[0m \u001b[38;5;28;01mif\u001b[39;00m response:\n\u001b[1;32m--> 425\u001b[0m     \u001b[38;5;28;43mself\u001b[39;49m\u001b[38;5;241;43m.\u001b[39;49m\u001b[43merror_handler\u001b[49m\u001b[38;5;241;43m.\u001b[39;49m\u001b[43mcheck_response\u001b[49m\u001b[43m(\u001b[49m\u001b[43mresponse\u001b[49m\u001b[43m)\u001b[49m\n\u001b[0;32m    426\u001b[0m     response[\u001b[38;5;124m'\u001b[39m\u001b[38;5;124mvalue\u001b[39m\u001b[38;5;124m'\u001b[39m] \u001b[38;5;241m=\u001b[39m \u001b[38;5;28mself\u001b[39m\u001b[38;5;241m.\u001b[39m_unwrap_value(\n\u001b[0;32m    427\u001b[0m         response\u001b[38;5;241m.\u001b[39mget(\u001b[38;5;124m'\u001b[39m\u001b[38;5;124mvalue\u001b[39m\u001b[38;5;124m'\u001b[39m, \u001b[38;5;28;01mNone\u001b[39;00m))\n\u001b[0;32m    428\u001b[0m     \u001b[38;5;28;01mreturn\u001b[39;00m response\n",
      "File \u001b[1;32mc:\\users\\hp\\appdata\\local\\programs\\python\\python39\\lib\\site-packages\\selenium\\webdriver\\remote\\errorhandler.py:247\u001b[0m, in \u001b[0;36mErrorHandler.check_response\u001b[1;34m(self, response)\u001b[0m\n\u001b[0;32m    245\u001b[0m         alert_text \u001b[38;5;241m=\u001b[39m value[\u001b[38;5;124m'\u001b[39m\u001b[38;5;124malert\u001b[39m\u001b[38;5;124m'\u001b[39m]\u001b[38;5;241m.\u001b[39mget(\u001b[38;5;124m'\u001b[39m\u001b[38;5;124mtext\u001b[39m\u001b[38;5;124m'\u001b[39m)\n\u001b[0;32m    246\u001b[0m     \u001b[38;5;28;01mraise\u001b[39;00m exception_class(message, screen, stacktrace, alert_text)  \u001b[38;5;66m# type: ignore[call-arg]  # mypy is not smart enough here\u001b[39m\n\u001b[1;32m--> 247\u001b[0m \u001b[38;5;28;01mraise\u001b[39;00m exception_class(message, screen, stacktrace)\n",
      "\u001b[1;31mWebDriverException\u001b[0m: Message: unknown error: unexpected command response\n  (Session info: chrome=103.0.5060.66)\nStacktrace:\nBacktrace:\n\tOrdinal0 [0x00F6D953+2414931]\n\tOrdinal0 [0x00EFF5E1+1963489]\n\tOrdinal0 [0x00DEC6B8+837304]\n\tOrdinal0 [0x00DDEB34+781108]\n\tOrdinal0 [0x00DDE06A+778346]\n\tOrdinal0 [0x00DDD646+775750]\n\tOrdinal0 [0x00DDCEBC+773820]\n\tOrdinal0 [0x00DF2197+860567]\n\tOrdinal0 [0x00E44B55+1198933]\n\tOrdinal0 [0x00E342B6+1131190]\n\tOrdinal0 [0x00E0E860+976992]\n\tOrdinal0 [0x00E0F756+980822]\n\tGetHandleVerifier [0x011DCC62+2510274]\n\tGetHandleVerifier [0x011CF760+2455744]\n\tGetHandleVerifier [0x00FFEABA+551962]\n\tGetHandleVerifier [0x00FFD916+547446]\n\tOrdinal0 [0x00F05F3B+1990459]\n\tOrdinal0 [0x00F0A898+2009240]\n\tOrdinal0 [0x00F0A985+2009477]\n\tOrdinal0 [0x00F13AD1+2046673]\n\tBaseThreadInitThunk [0x76733744+36]\n\tRtlSetCurrentTransaction [0x77AE9E54+212]\n\tRtlSetCurrentTransaction [0x77AE9E1F+159]\n"
     ]
    }
   ],
   "source": [
    "from selenium import webdriver\n",
    "import pandas as pd\n",
    "from selenium.webdriver.common.by import By\n",
    "import warnings\n",
    "#to ignore warnings \n",
    "warnings.filterwarnings(\"ignore\")\n",
    "driver = webdriver.Chrome(\"chromedriver.exe\")\n",
    "url=[]\n",
    "for no in range(1,5):\n",
    "    driver.get(f\"https://www.daraz.pk/smartphones/samsung/?page={no}spm=a2a0e.home.cate_7_1.11.35e34937QRI6mR\")\n",
    "\n",
    "    articles =driver.find_elements_by_class_name('mainPic--ehOdr')\n",
    "    \n",
    "    for article in articles:\n",
    "        for j in article.find_elements_by_tag_name(\"a\"):\n",
    "            url.append(j.get_attribute(\"href\"))\n",
    "bigdata=[]\n",
    "def scrape(url):\n",
    "    data=[]\n",
    "    driver.get(url)\n",
    "    data.append(driver.find_element_by_class_name(\"pdp-mod-product-badge-title\").text)\n",
    "    data.append(driver.find_element_by_class_name(\"pdp-product-brand\").text)\n",
    "    data.append(driver.find_element_by_class_name(\"pdp-product-price\").text)\n",
    "    data.append(\" \".join([i.text for i in driver.find_elements_by_tag_name('ul')]))\n",
    "    bigdata.append(data)\n",
    "    for u in url:\n",
    "        scrape(u)"
   ]
  },
  {
   "cell_type": "code",
   "execution_count": null,
   "id": "d4a6fcf0-4481-4259-a892-06a2d448a49e",
   "metadata": {},
   "outputs": [],
   "source": [
    "url=[]\n",
    "for no in range(1,5):\n",
    "    driver.get(f\"https://www.daraz.pk/smartphones/nokia/?page={no}&spm=a2a0e.home.cate_7_1.1.35e349372aEtp7\")\n",
    "\n",
    "    articles =driver.find_elements_by_class_name('mainPic--ehOdr')\n",
    "    \n",
    "    for article in articles:\n",
    "        for j in article.find_elements_by_tag_name(\"a\"):\n",
    "            url.append(j.get_attribute(\"href\"))"
   ]
  },
  {
   "cell_type": "code",
   "execution_count": null,
   "id": "8e21dba6-f67a-4063-9ecc-5a5ecff2d14d",
   "metadata": {},
   "outputs": [],
   "source": [
    "len(url)"
   ]
  },
  {
   "cell_type": "code",
   "execution_count": null,
   "id": "755bc0d4-339e-4126-94a6-606046a412e9",
   "metadata": {},
   "outputs": [],
   "source": [
    "bigdata=[]\n",
    "def scrape(url):\n",
    "    data=[]\n",
    "    driver.get(url)\n",
    "    data.append(driver.find_element_by_class_name(\"pdp-mod-product-badge-title\").text)\n",
    "    data.append(driver.find_element_by_class_name(\"pdp-product-brand\").text)\n",
    "    data.append(driver.find_element_by_class_name(\"pdp-product-price\").text)\n",
    "    data.append(\" \".join([i.text for i in driver.find_elements_by_tag_name('ul')]))\n",
    "    bigdata.append(data)\n",
    "    for u in url:\n",
    "        scrape(u)"
   ]
  },
  {
   "cell_type": "code",
   "execution_count": null,
   "id": "ebe394bd-c456-4bf1-a70b-1ed65ae72cb6",
   "metadata": {},
   "outputs": [],
   "source": [
    "for u in url:\n",
    "        scrape(u)"
   ]
  },
  {
   "cell_type": "code",
   "execution_count": null,
   "id": "bd3a7324-9649-4e65-8e22-074346e457bb",
   "metadata": {},
   "outputs": [],
   "source": [
    "len(bigdata)"
   ]
  },
  {
   "cell_type": "code",
   "execution_count": null,
   "id": "b0d564d8-1e3f-4b34-81ae-c341a26a056e",
   "metadata": {},
   "outputs": [],
   "source": [
    "import pandas\n",
    "pd = pandas.DataFrame(bigdata)\n",
    "pd.to_csv(\"Nokia.csv\")"
   ]
  }
 ],
 "metadata": {
  "kernelspec": {
   "display_name": "Python 3 (ipykernel)",
   "language": "python",
   "name": "python3"
  },
  "language_info": {
   "codemirror_mode": {
    "name": "ipython",
    "version": 3
   },
   "file_extension": ".py",
   "mimetype": "text/x-python",
   "name": "python",
   "nbconvert_exporter": "python",
   "pygments_lexer": "ipython3",
   "version": "3.9.4"
  }
 },
 "nbformat": 4,
 "nbformat_minor": 5
}
