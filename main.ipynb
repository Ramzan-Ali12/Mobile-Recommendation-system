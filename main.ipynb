{
 "cells": [
  {
   "cell_type": "code",
   "execution_count": 1,
   "id": "cd0ee65f-469f-4afe-9158-81603acc9dd2",
   "metadata": {},
   "outputs": [
    {
     "name": "stdout",
     "output_type": "stream",
     "text": [
      "{'ram': '4', 'rom': '16', 'camera': '5', 'battery': '2500', 'size': '4.5', 'rating': '2.5', 'budget': '20000'}\n"
     ]
    },
    {
     "name": "stderr",
     "output_type": "stream",
     "text": [
      "C:\\Users\\HP\\AppData\\Local\\Temp\\ipykernel_21608\\289183147.py:43: FutureWarning: The frame.append method is deprecated and will be removed from pandas in a future version. Use pandas.concat instead.\n",
      "  df=userDf.append(df)\n"
     ]
    },
    {
     "name": "stdout",
     "output_type": "stream",
     "text": [
      "0          20000 4 16 4.5 5 2500\n",
      "0    11,499 4 128 6.52 48.0 6000\n",
      "1     10,499 4 64 6.52 48.0 6000\n",
      "2    11,499 4 128 6.52 48.0 6000\n",
      "3     10,499 4 64 6.52 48.0 6000\n",
      "Name: combinedFeatures, dtype: object\n",
      "{'ram': '3', 'rom': '16', 'camera': '5', 'battery': '4000', 'size': '4.5', 'rating': '3.5', 'budget': '30000'}\n",
      "0          30000 3 16 4.5 5 4000\n",
      "0    11,499 4 128 6.52 48.0 6000\n",
      "1     10,499 4 64 6.52 48.0 6000\n",
      "2    11,499 4 128 6.52 48.0 6000\n",
      "3     10,499 4 64 6.52 48.0 6000\n",
      "Name: combinedFeatures, dtype: object\n"
     ]
    },
    {
     "name": "stderr",
     "output_type": "stream",
     "text": [
      "C:\\Users\\HP\\AppData\\Local\\Temp\\ipykernel_21608\\289183147.py:43: FutureWarning: The frame.append method is deprecated and will be removed from pandas in a future version. Use pandas.concat instead.\n",
      "  df=userDf.append(df)\n"
     ]
    },
    {
     "ename": "SystemExit",
     "evalue": "",
     "output_type": "error",
     "traceback": [
      "An exception has occurred, use %tb to see the full traceback.\n",
      "\u001b[1;31mSystemExit\u001b[0m\n"
     ]
    },
    {
     "name": "stderr",
     "output_type": "stream",
     "text": [
      "c:\\users\\hp\\appdata\\local\\programs\\python\\python39\\lib\\site-packages\\IPython\\core\\interactiveshell.py:3369: UserWarning: To exit: use 'exit', 'quit', or Ctrl-D.\n",
      "  warn(\"To exit: use 'exit', 'quit', or Ctrl-D.\", stacklevel=1)\n"
     ]
    }
   ],
   "source": [
    "#Mobile Recommendation System \n",
    "#Developed By: M Ramzan Ali\n",
    "\n",
    "#Requirements:Python, eel, browser\n",
    "#NOTE: You need chrome browser if you want to run this project\n",
    "# If you dont use chrome then specify your browser according to eel docs.\n",
    "\n",
    "import eel\n",
    "import pandas as pd\n",
    "import numpy as np\n",
    "from sklearn.feature_extraction.text import CountVectorizer\n",
    "from sklearn.metrics.pairwise import cosine_similarity\n",
    "\n",
    "@eel.expose\n",
    "def recieveDataToPython(jsToPy):\n",
    "    #this function is acessible from js\n",
    "    # print(\"Hellow,Function called from js\")\n",
    "    print(jsToPy)\n",
    "    # print(jsToPy['ram'])\n",
    "    # 0) Get user data and make a df\n",
    "    data={\n",
    "    \"Name\":['User Req name'],\n",
    "    \"Rating\":[jsToPy['rating']],\n",
    "    \"Price Rs\":[jsToPy['budget']],\n",
    "    \"RAM Gb\":[jsToPy['ram']],\n",
    "    \"ROM Gb\":[jsToPy['rom']],\n",
    "    \"Expandable GB\":[' '],\n",
    "    \"Size Cm\":[' '],\n",
    "    \"Size Inch\":[jsToPy['size']],\n",
    "    \"R1 Cam MP\":[jsToPy['camera']],\n",
    "    \"R2 Cam MP\":[' '],\n",
    "    \"R3 Cam MP\":[' '],\n",
    "    \"R4 Cam MP\":[' '],\n",
    "    \"Battery Mah\":[jsToPy['battery']],\n",
    "    \"Processor\":' '\n",
    "    }\n",
    "    userDf=pd.DataFrame(data)\n",
    "    #1)Read the dataset\n",
    "    df=pd.read_csv('Mobile phones.csv',encoding= 'unicode_escape')\n",
    "    # print (df.columns)\n",
    "\n",
    "    # 1.1)Append the dataframe\n",
    "    df=userDf.append(df)\n",
    "    #2)Select Features\n",
    "    # features=['Price Rs','Rating','RAM Gb','ROM Gb','Size Inch','R1 Cam MP','Battery Mah']\n",
    "\n",
    "    # 3)Create a column which will contain all these feat\n",
    "    def combineFeatures(row):\n",
    "        return str(row['Price Rs'])+\" \"+str(row['RAM Gb'])+\" \"+str(row['ROM Gb'])+\" \"+str(row['Size Inch'])+\" \"+str(row['R1 Cam MP'])+\" \"+str(row['Battery Mah'])\n",
    "    # this will create a seperate colm of combined features\n",
    "    df[\"combinedFeatures\"]=df.apply(combineFeatures,axis=1)\n",
    "    print (df['combinedFeatures'].head())\n",
    "    # 4) Now find the index which is more similar to our requirement\n",
    "    # now use cosine similarity\n",
    "    # create an object of countVectorizer\n",
    "    cv=CountVectorizer()\n",
    "    countMatrix=cv.fit_transform(df['combinedFeatures'])\n",
    "    # print (countMatrix).toarray()\n",
    "    similar=cosine_similarity(countMatrix)\n",
    "    similarPhones=list(enumerate(similar[0]))\n",
    "    # print (similarPhones)\n",
    "\n",
    "    # 5)Now sort the entries acc to similarity scores\n",
    "    sortedSimilarPhones=sorted(similarPhones,key=lambda x:x[1], reverse=True)\n",
    "    # print (sortedSimilarPhones)\n",
    "    # Now print the most similar 5 phones\n",
    "  \n",
    "    x=0\n",
    "    pyToJs={}\n",
    "    for phone in sortedSimilarPhones:\n",
    "        if (df[df.index==phone[0]]['Name'].values[0]=='User Req name'):\n",
    "            pass\n",
    "        else:\n",
    "            pyToJs[df[df.index==phone[0]]['Name'].values[0]]={\n",
    "            'size':str(df[df.index==phone[0]]['Size Inch'].values[0]),\n",
    "            'ram':str(df[df.index==phone[0]]['RAM Gb'].values[0]),\n",
    "            'rom':str(df[df.index==phone[0]]['ROM Gb'].values[0]),\n",
    "            'camera':df[df.index==phone[0]]['R1 Cam MP'].values[0],\n",
    "            'budget':df[df.index==phone[0]]['Price Rs'].values[0],\n",
    "            'processor':df[df.index==phone[0]]['Processor'].values[0],\n",
    "            'rating':df[df.index==phone[0]]['Rating'].values[0],\n",
    "            'battery':str(df[df.index==phone[0]]['Battery Mah'].values[0]),    \n",
    "            }\n",
    "        #   \n",
    "        x=x+1\n",
    "        if(x==10):\n",
    "            break\n",
    " # new code ends \n",
    "      # send back to frontend\n",
    "\n",
    "    eel.recieveBackToJs(pyToJs) \n",
    "eel.init(\"GUI\")\n",
    "eel.start('index.html',size=(1600,900),port=8090)"
   ]
  },
  {
   "cell_type": "code",
   "execution_count": null,
   "id": "0e4f61d8-72ab-4043-b9fd-f44757183acd",
   "metadata": {},
   "outputs": [],
   "source": []
  }
 ],
 "metadata": {
  "kernelspec": {
   "display_name": "Python 3 (ipykernel)",
   "language": "python",
   "name": "python3"
  },
  "language_info": {
   "codemirror_mode": {
    "name": "ipython",
    "version": 3
   },
   "file_extension": ".py",
   "mimetype": "text/x-python",
   "name": "python",
   "nbconvert_exporter": "python",
   "pygments_lexer": "ipython3",
   "version": "3.9.4"
  }
 },
 "nbformat": 4,
 "nbformat_minor": 5
}
