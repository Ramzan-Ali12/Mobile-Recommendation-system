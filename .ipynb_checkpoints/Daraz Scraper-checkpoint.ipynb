{
 "cells": [
  {
   "cell_type": "markdown",
   "id": "71f4f786-d789-4b73-a0b2-ed3feca4ba11",
   "metadata": {},
   "source": [
    "# Daraz Data Scraper code"
   ]
  },
  {
   "cell_type": "code",
   "execution_count": null,
   "id": "950181db-7bda-4518-b71e-714237b6c791",
   "metadata": {},
   "outputs": [],
   "source": [
    "from selenium import webdriver\n",
    "import pandas as pd\n",
    "from selenium.webdriver.common.by import By\n",
    "import warnings\n",
    "#to ignore warnings \n",
    "warnings.filterwarnings(\"ignore\")\n",
    "driver = webdriver.Chrome(\"chromedriver.exe\")\n",
    "url=[]\n",
    "for no in range(1,5):\n",
    "    driver.get(f\"https://www.daraz.pk/smartphones/nokia/?page={no}&spm=a2a0e.home.cate_7_1.1.35e349372aEtp7\")\n",
    "\n",
    "    articles =driver.find_elements_by_class_name('mainPic--ehOdr')\n",
    "    \n",
    "    for article in articles:\n",
    "        for j in article.find_elements_by_tag_name(\"a\"):\n",
    "            url.append(j.get_attribute(\"href\"))\n",
    "bigdata=[]\n",
    "def scrape(url):\n",
    "    data=[]\n",
    "    driver.get(url)\n",
    "    data.append(driver.find_element_by_class_name(\"pdp-mod-product-badge-title\").text)\n",
    "    data.append(driver.find_element_by_class_name(\"pdp-product-brand\").text)\n",
    "    data.append(driver.find_element_by_class_name(\"pdp-product-price\").text)\n",
    "    data.append(\" \".join([i.text for i in driver.find_elements_by_tag_name('ul')]))\n",
    "    bigdata.append(data)\n",
    "    for u in url:\n",
    "        scrape(u)"
   ]
  },
  {
   "cell_type": "code",
   "execution_count": null,
   "id": "d4a6fcf0-4481-4259-a892-06a2d448a49e",
   "metadata": {},
   "outputs": [],
   "source": [
    "url=[]\n",
    "for no in range(1,5):\n",
    "    driver.get(f\"https://www.daraz.pk/smartphones/nokia/?page={no}&spm=a2a0e.home.cate_7_1.1.35e349372aEtp7\")\n",
    "\n",
    "    articles =driver.find_elements_by_class_name('mainPic--ehOdr')\n",
    "    \n",
    "    for article in articles:\n",
    "        for j in article.find_elements_by_tag_name(\"a\"):\n",
    "            url.append(j.get_attribute(\"href\"))"
   ]
  },
  {
   "cell_type": "code",
   "execution_count": null,
   "id": "8e21dba6-f67a-4063-9ecc-5a5ecff2d14d",
   "metadata": {},
   "outputs": [],
   "source": [
    "len(url)"
   ]
  },
  {
   "cell_type": "code",
   "execution_count": null,
   "id": "755bc0d4-339e-4126-94a6-606046a412e9",
   "metadata": {},
   "outputs": [],
   "source": [
    "bigdata=[]\n",
    "def scrape(url):\n",
    "    data=[]\n",
    "    driver.get(url)\n",
    "    data.append(driver.find_element_by_class_name(\"pdp-mod-product-badge-title\").text)\n",
    "    data.append(driver.find_element_by_class_name(\"pdp-product-brand\").text)\n",
    "    data.append(driver.find_element_by_class_name(\"pdp-product-price\").text)\n",
    "    data.append(\" \".join([i.text for i in driver.find_elements_by_tag_name('ul')]))\n",
    "    bigdata.append(data)\n",
    "    for u in url:\n",
    "        scrape(u)"
   ]
  },
  {
   "cell_type": "code",
   "execution_count": null,
   "id": "ebe394bd-c456-4bf1-a70b-1ed65ae72cb6",
   "metadata": {},
   "outputs": [],
   "source": [
    "for u in url:\n",
    "        scrape(u)"
   ]
  },
  {
   "cell_type": "code",
   "execution_count": null,
   "id": "bd3a7324-9649-4e65-8e22-074346e457bb",
   "metadata": {},
   "outputs": [],
   "source": [
    "len(bigdata)"
   ]
  },
  {
   "cell_type": "code",
   "execution_count": null,
   "id": "b0d564d8-1e3f-4b34-81ae-c341a26a056e",
   "metadata": {},
   "outputs": [],
   "source": [
    "import pandas\n",
    "pd = pandas.DataFrame(bigdata)\n",
    "pd.to_csv(\"Nokia.csv\")"
   ]
  }
 ],
 "metadata": {
  "kernelspec": {
   "display_name": "Python 3 (ipykernel)",
   "language": "python",
   "name": "python3"
  },
  "language_info": {
   "codemirror_mode": {
    "name": "ipython",
    "version": 3
   },
   "file_extension": ".py",
   "mimetype": "text/x-python",
   "name": "python",
   "nbconvert_exporter": "python",
   "pygments_lexer": "ipython3",
   "version": "3.9.4"
  }
 },
 "nbformat": 4,
 "nbformat_minor": 5
}
